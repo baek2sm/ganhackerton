{
 "cells": [
  {
   "cell_type": "code",
   "execution_count": 1,
   "id": "useful-capitol",
   "metadata": {},
   "outputs": [],
   "source": [
    "import torch"
   ]
  },
  {
   "cell_type": "code",
   "execution_count": 2,
   "id": "optical-pennsylvania",
   "metadata": {},
   "outputs": [
    {
     "name": "stdout",
     "output_type": "stream",
     "text": [
      "Collecting torch\n",
      "  Downloading torch-1.7.1-cp37-cp37m-manylinux1_x86_64.whl (776.8 MB)\n",
      "\u001b[K     |██████                         ^C 145.4 MB 57.4 MB/s eta 0:00:12\n",
      "\u001b[31mERROR: Exception:\n",
      "Traceback (most recent call last):\n",
      "  File \"/root/miniconda3/lib/python3.7/site-packages/pip/_internal/cli/base_command.py\", line 224, in _main\n",
      "    status = self.run(options, args)\n",
      "  File \"/root/miniconda3/lib/python3.7/site-packages/pip/_internal/cli/req_command.py\", line 180, in wrapper\n",
      "    return func(self, options, args)\n",
      "  File \"/root/miniconda3/lib/python3.7/site-packages/pip/_internal/commands/install.py\", line 321, in run\n",
      "    reqs, check_supported_wheels=not options.target_dir\n",
      "  File \"/root/miniconda3/lib/python3.7/site-packages/pip/_internal/resolution/resolvelib/resolver.py\", line 122, in resolve\n",
      "    requirements, max_rounds=try_to_avoid_resolution_too_deep,\n",
      "  File \"/root/miniconda3/lib/python3.7/site-packages/pip/_vendor/resolvelib/resolvers.py\", line 445, in resolve\n",
      "    state = resolution.resolve(requirements, max_rounds=max_rounds)\n",
      "  File \"/root/miniconda3/lib/python3.7/site-packages/pip/_vendor/resolvelib/resolvers.py\", line 339, in resolve\n",
      "    failure_causes = self._attempt_to_pin_criterion(name, criterion)\n",
      "  File \"/root/miniconda3/lib/python3.7/site-packages/pip/_vendor/resolvelib/resolvers.py\", line 207, in _attempt_to_pin_criterion\n",
      "    criteria = self._get_criteria_to_update(candidate)\n",
      "  File \"/root/miniconda3/lib/python3.7/site-packages/pip/_vendor/resolvelib/resolvers.py\", line 198, in _get_criteria_to_update\n",
      "    for r in self._p.get_dependencies(candidate):\n",
      "  File \"/root/miniconda3/lib/python3.7/site-packages/pip/_internal/resolution/resolvelib/provider.py\", line 172, in get_dependencies\n",
      "    for r in candidate.iter_dependencies(with_requires)\n",
      "  File \"/root/miniconda3/lib/python3.7/site-packages/pip/_internal/resolution/resolvelib/provider.py\", line 171, in <listcomp>\n",
      "    r\n",
      "  File \"/root/miniconda3/lib/python3.7/site-packages/pip/_internal/resolution/resolvelib/candidates.py\", line 257, in iter_dependencies\n",
      "    requires = self.dist.requires() if with_requires else ()\n",
      "  File \"/root/miniconda3/lib/python3.7/site-packages/pip/_internal/resolution/resolvelib/candidates.py\", line 239, in dist\n",
      "    self._prepare()\n",
      "  File \"/root/miniconda3/lib/python3.7/site-packages/pip/_internal/resolution/resolvelib/candidates.py\", line 226, in _prepare\n",
      "    dist = self._prepare_distribution()\n",
      "  File \"/root/miniconda3/lib/python3.7/site-packages/pip/_internal/resolution/resolvelib/candidates.py\", line 319, in _prepare_distribution\n",
      "    self._ireq, parallel_builds=True,\n",
      "  File \"/root/miniconda3/lib/python3.7/site-packages/pip/_internal/operations/prepare.py\", line 480, in prepare_linked_requirement\n",
      "    return self._prepare_linked_requirement(req, parallel_builds)\n",
      "  File \"/root/miniconda3/lib/python3.7/site-packages/pip/_internal/operations/prepare.py\", line 505, in _prepare_linked_requirement\n",
      "    self.download_dir, hashes,\n",
      "  File \"/root/miniconda3/lib/python3.7/site-packages/pip/_internal/operations/prepare.py\", line 257, in unpack_url\n",
      "    hashes=hashes,\n",
      "  File \"/root/miniconda3/lib/python3.7/site-packages/pip/_internal/operations/prepare.py\", line 130, in get_http_url\n",
      "    from_path, content_type = download(link, temp_dir.path)\n",
      "  File \"/root/miniconda3/lib/python3.7/site-packages/pip/_internal/network/download.py\", line 163, in __call__\n",
      "    for chunk in chunks:\n",
      "  File \"/root/miniconda3/lib/python3.7/site-packages/pip/_internal/cli/progress_bars.py\", line 172, in iter\n",
      "    self.next(len(x))  # noqa: B305\n",
      "  File \"/root/miniconda3/lib/python3.7/site-packages/pip/_vendor/progress/__init__.py\", line 120, in next\n",
      "    self.update()\n",
      "  File \"/root/miniconda3/lib/python3.7/site-packages/pip/_vendor/progress/bar.py\", line 83, in update\n",
      "    self.writeln(line)\n",
      "  File \"/root/miniconda3/lib/python3.7/site-packages/pip/_vendor/progress/__init__.py\", line 101, in writeln\n",
      "    self.clearln()\n",
      "  File \"/root/miniconda3/lib/python3.7/site-packages/pip/_vendor/progress/__init__.py\", line 90, in clearln\n",
      "    print('\\r\\x1b[K', end='', file=self.file)\n",
      "  File \"/root/miniconda3/lib/python3.7/site-packages/pip/_internal/cli/progress_bars.py\", line 115, in handle_sigint\n",
      "    self.finish()\n",
      "  File \"/root/miniconda3/lib/python3.7/site-packages/pip/_internal/cli/progress_bars.py\", line 105, in finish\n",
      "    super(InterruptibleMixin, self).finish()  # type: ignore\n",
      "  File \"/root/miniconda3/lib/python3.7/site-packages/pip/_vendor/progress/__init__.py\", line 107, in finish\n",
      "    print(file=self.file)\n",
      "RuntimeError: reentrant call inside <_io.BufferedWriter name='<stdout>'>\u001b[0m\n",
      "\u001b[K"
     ]
    }
   ],
   "source": [
    "!pip3 install torch"
   ]
  },
  {
   "cell_type": "code",
   "execution_count": 1,
   "id": "commercial-looking",
   "metadata": {},
   "outputs": [
    {
     "name": "stdout",
     "output_type": "stream",
     "text": [
      "/tf/notebooks\n"
     ]
    }
   ],
   "source": [
    "!pwd"
   ]
  },
  {
   "cell_type": "code",
   "execution_count": 17,
   "id": "beginning-production",
   "metadata": {},
   "outputs": [
    {
     "name": "stdout",
     "output_type": "stream",
     "text": [
      "total 52K\n",
      "drwxr-xr-x 13 root root 4.0K Jan 31 08:21 .\n",
      "drwxr-xr-x  7 root root 4.0K Jan 31 10:24 ..\n",
      "drwxr-xr-x  4 root root 4.0K Jan 21 06:52 partition1\n",
      "drwxr-xr-x  4 root root 4.0K Jan 21 07:09 partition10\n",
      "drwxr-xr-x  4 root root 4.0K Jan 21 07:11 partition11\n",
      "drwxr-xr-x  4 root root 4.0K Jan 21 06:54 partition2\n",
      "drwxr-xr-x  4 root root 4.0K Jan 21 06:56 partition3\n",
      "drwxr-xr-x  4 root root 4.0K Jan 21 06:57 partition4\n",
      "drwxr-xr-x  4 root root 4.0K Jan 21 06:59 partition5\n",
      "drwxr-xr-x  4 root root 4.0K Jan 21 07:01 partition6\n",
      "drwxr-xr-x  4 root root 4.0K Jan 21 07:03 partition7\n",
      "drwxr-xr-x  4 root root 4.0K Jan 21 07:05 partition8\n",
      "drwxr-xr-x  4 root root 4.0K Jan 21 07:07 partition9\n"
     ]
    }
   ],
   "source": [
    "!cd /main/dataset/ && ls -alh"
   ]
  },
  {
   "cell_type": "code",
   "execution_count": 19,
   "id": "monetary-calendar",
   "metadata": {},
   "outputs": [
    {
     "name": "stdout",
     "output_type": "stream",
     "text": [
      "total 139M\n",
      "drwxr-xr-x 2 root root 4.0K Jan 21 06:52 .\n",
      "drwxr-xr-x 4 root root 4.0K Jan 21 06:52 ..\n",
      "-rw-r--r-- 1 root root 5.3M Jan 21 06:52 annotation.csv\n",
      "-rw-r--r-- 1 root root  33M Jan 21 06:52 exifdata.json\n",
      "-rw-r--r-- 1 root root 102M Jan 21 06:52 meta-annotation.csv\n",
      "-rw-r--r-- 1 root root  11K Jan 21 06:52 optional-annotation.csv\n"
     ]
    }
   ],
   "source": [
    "!cd /main/dataset/partition1/annotations && ls -alh"
   ]
  },
  {
   "cell_type": "code",
   "execution_count": 8,
   "id": "proof-appointment",
   "metadata": {},
   "outputs": [
    {
     "name": "stdout",
     "output_type": "stream",
     "text": [
      "--2021-01-31 13:04:18--  https://nia-outputs-for-kaist-v2.s3.ap-northeast-2.amazonaws.com/dataset/mqset/train/annotation.csv\n",
      "Resolving nia-outputs-for-kaist-v2.s3.ap-northeast-2.amazonaws.com (nia-outputs-for-kaist-v2.s3.ap-northeast-2.amazonaws.com)... 52.219.144.19\n",
      "Connecting to nia-outputs-for-kaist-v2.s3.ap-northeast-2.amazonaws.com (nia-outputs-for-kaist-v2.s3.ap-northeast-2.amazonaws.com)|52.219.144.19|:443... connected.\n",
      "HTTP request sent, awaiting response... 200 OK\n",
      "Length: 55941343 (53M) [binary/octet-stream]\n",
      "Saving to: ‘annotation.csv’\n",
      "\n",
      "annotation.csv      100%[===================>]  53.35M   121MB/s    in 0.4s    \n",
      "\n",
      "2021-01-31 13:04:19 (121 MB/s) - ‘annotation.csv’ saved [55941343/55941343]\n",
      "\n",
      "--2021-01-31 13:04:20--  https://nia-outputs-for-kaist-v2.s3.ap-northeast-2.amazonaws.com/dataset/mqset/train/exifdata.json\n",
      "Resolving nia-outputs-for-kaist-v2.s3.ap-northeast-2.amazonaws.com (nia-outputs-for-kaist-v2.s3.ap-northeast-2.amazonaws.com)... 52.219.144.19\n",
      "Connecting to nia-outputs-for-kaist-v2.s3.ap-northeast-2.amazonaws.com (nia-outputs-for-kaist-v2.s3.ap-northeast-2.amazonaws.com)|52.219.144.19|:443... connected.\n",
      "HTTP request sent, awaiting response... 200 OK\n",
      "Length: 386370722 (368M) [binary/octet-stream]\n",
      "Saving to: ‘exifdata.json’\n",
      "\n",
      "exifdata.json       100%[===================>] 368.47M  98.2MB/s    in 3.8s    \n",
      "\n",
      "2021-01-31 13:04:24 (97.7 MB/s) - ‘exifdata.json’ saved [386370722/386370722]\n",
      "\n",
      "--2021-01-31 13:04:24--  https://nia-outputs-for-kaist-v2.s3.ap-northeast-2.amazonaws.com/dataset/mqset/train/meta-annotation.csv\n",
      "Resolving nia-outputs-for-kaist-v2.s3.ap-northeast-2.amazonaws.com (nia-outputs-for-kaist-v2.s3.ap-northeast-2.amazonaws.com)... 52.219.58.135\n",
      "Connecting to nia-outputs-for-kaist-v2.s3.ap-northeast-2.amazonaws.com (nia-outputs-for-kaist-v2.s3.ap-northeast-2.amazonaws.com)|52.219.58.135|:443... connected.\n",
      "HTTP request sent, awaiting response... 200 OK\n",
      "Length: 1170988002 (1.1G) [binary/octet-stream]\n",
      "Saving to: ‘meta-annotation.csv’\n",
      "\n",
      "meta-annotation.csv 100%[===================>]   1.09G  98.8MB/s    in 12s     \n",
      "\n",
      "2021-01-31 13:04:36 (95.9 MB/s) - ‘meta-annotation.csv’ saved [1170988002/1170988002]\n",
      "\n",
      "--2021-01-31 13:04:37--  https://nia-outputs-for-kaist-v2.s3.ap-northeast-2.amazonaws.com/dataset/mqset/train/optional-annotation.csv\n",
      "Resolving nia-outputs-for-kaist-v2.s3.ap-northeast-2.amazonaws.com (nia-outputs-for-kaist-v2.s3.ap-northeast-2.amazonaws.com)... 52.219.60.3\n",
      "Connecting to nia-outputs-for-kaist-v2.s3.ap-northeast-2.amazonaws.com (nia-outputs-for-kaist-v2.s3.ap-northeast-2.amazonaws.com)|52.219.60.3|:443... connected.\n",
      "HTTP request sent, awaiting response... 200 OK\n",
      "Length: 144087 (141K) [binary/octet-stream]\n",
      "Saving to: ‘optional-annotation.csv’\n",
      "\n",
      "optional-annotation 100%[===================>] 140.71K  --.-KB/s    in 0.002s  \n",
      "\n",
      "2021-01-31 13:04:37 (86.7 MB/s) - ‘optional-annotation.csv’ saved [144087/144087]\n",
      "\n",
      "--2021-01-31 13:04:37--  https://nia-outputs-for-kaist-v2.s3.ap-northeast-2.amazonaws.com/dataset/mqset/train/partition1.zip\n",
      "Resolving nia-outputs-for-kaist-v2.s3.ap-northeast-2.amazonaws.com (nia-outputs-for-kaist-v2.s3.ap-northeast-2.amazonaws.com)... 52.219.60.3\n",
      "Connecting to nia-outputs-for-kaist-v2.s3.ap-northeast-2.amazonaws.com (nia-outputs-for-kaist-v2.s3.ap-northeast-2.amazonaws.com)|52.219.60.3|:443... connected.\n",
      "HTTP request sent, awaiting response... 200 OK\n",
      "Length: 1148837398 (1.1G) [binary/octet-stream]\n",
      "Saving to: ‘partition1.zip’\n",
      "\n",
      "partition1.zip      100%[===================>]   1.07G  63.2MB/s    in 19s     \n",
      "\n",
      "2021-01-31 13:04:56 (58.3 MB/s) - ‘partition1.zip’ saved [1148837398/1148837398]\n",
      "\n",
      "--2021-01-31 13:04:57--  https://nia-outputs-for-kaist-v2.s3.ap-northeast-2.amazonaws.com/dataset/mqset/train/partition10.zip\n",
      "Resolving nia-outputs-for-kaist-v2.s3.ap-northeast-2.amazonaws.com (nia-outputs-for-kaist-v2.s3.ap-northeast-2.amazonaws.com)... 52.219.58.31\n",
      "Connecting to nia-outputs-for-kaist-v2.s3.ap-northeast-2.amazonaws.com (nia-outputs-for-kaist-v2.s3.ap-northeast-2.amazonaws.com)|52.219.58.31|:443... connected.\n",
      "HTTP request sent, awaiting response... 200 OK\n",
      "Length: 1133641636 (1.1G) [binary/octet-stream]\n",
      "Saving to: ‘partition10.zip’\n",
      "\n",
      "partition10.zip     100%[===================>]   1.06G  56.0MB/s    in 19s     \n",
      "\n",
      "2021-01-31 13:05:16 (55.6 MB/s) - ‘partition10.zip’ saved [1133641636/1133641636]\n",
      "\n",
      "--2021-01-31 13:05:17--  https://nia-outputs-for-kaist-v2.s3.ap-northeast-2.amazonaws.com/dataset/mqset/train/partition11.zip\n",
      "Resolving nia-outputs-for-kaist-v2.s3.ap-northeast-2.amazonaws.com (nia-outputs-for-kaist-v2.s3.ap-northeast-2.amazonaws.com)... 52.219.56.79\n",
      "Connecting to nia-outputs-for-kaist-v2.s3.ap-northeast-2.amazonaws.com (nia-outputs-for-kaist-v2.s3.ap-northeast-2.amazonaws.com)|52.219.56.79|:443... connected.\n",
      "HTTP request sent, awaiting response... 200 OK\n",
      "Length: 1100252290 (1.0G) [binary/octet-stream]\n",
      "Saving to: ‘partition11.zip’\n",
      "\n",
      "partition11.zip     100%[===================>]   1.02G  58.8MB/s    in 18s     \n",
      "\n",
      "2021-01-31 13:05:36 (56.9 MB/s) - ‘partition11.zip’ saved [1100252290/1100252290]\n",
      "\n",
      "--2021-01-31 13:05:36--  https://nia-outputs-for-kaist-v2.s3.ap-northeast-2.amazonaws.com/dataset/mqset/train/partition2.zip\n",
      "Resolving nia-outputs-for-kaist-v2.s3.ap-northeast-2.amazonaws.com (nia-outputs-for-kaist-v2.s3.ap-northeast-2.amazonaws.com)... 52.219.60.83\n",
      "Connecting to nia-outputs-for-kaist-v2.s3.ap-northeast-2.amazonaws.com (nia-outputs-for-kaist-v2.s3.ap-northeast-2.amazonaws.com)|52.219.60.83|:443... connected.\n",
      "HTTP request sent, awaiting response... 200 OK\n",
      "Length: 1145733728 (1.1G) [binary/octet-stream]\n",
      "Saving to: ‘partition2.zip’\n",
      "\n",
      "partition2.zip      100%[===================>]   1.07G  54.9MB/s    in 19s     \n",
      "\n",
      "2021-01-31 13:05:56 (56.2 MB/s) - ‘partition2.zip’ saved [1145733728/1145733728]\n",
      "\n",
      "--2021-01-31 13:05:56--  https://nia-outputs-for-kaist-v2.s3.ap-northeast-2.amazonaws.com/dataset/mqset/train/partition3.zip\n",
      "Resolving nia-outputs-for-kaist-v2.s3.ap-northeast-2.amazonaws.com (nia-outputs-for-kaist-v2.s3.ap-northeast-2.amazonaws.com)... 52.219.56.87\n",
      "Connecting to nia-outputs-for-kaist-v2.s3.ap-northeast-2.amazonaws.com (nia-outputs-for-kaist-v2.s3.ap-northeast-2.amazonaws.com)|52.219.56.87|:443... connected.\n",
      "HTTP request sent, awaiting response... 200 OK\n",
      "Length: 1159064928 (1.1G) [binary/octet-stream]\n",
      "Saving to: ‘partition3.zip’\n",
      "\n",
      "partition3.zip      100%[===================>]   1.08G  55.2MB/s    in 19s     \n",
      "\n",
      "2021-01-31 13:06:16 (56.8 MB/s) - ‘partition3.zip’ saved [1159064928/1159064928]\n",
      "\n",
      "--2021-01-31 13:06:17--  https://nia-outputs-for-kaist-v2.s3.ap-northeast-2.amazonaws.com/dataset/mqset/train/partition4.zip\n",
      "Resolving nia-outputs-for-kaist-v2.s3.ap-northeast-2.amazonaws.com (nia-outputs-for-kaist-v2.s3.ap-northeast-2.amazonaws.com)... 52.219.144.19\n",
      "Connecting to nia-outputs-for-kaist-v2.s3.ap-northeast-2.amazonaws.com (nia-outputs-for-kaist-v2.s3.ap-northeast-2.amazonaws.com)|52.219.144.19|:443... connected.\n",
      "HTTP request sent, awaiting response... 200 OK\n",
      "Length: 1149683901 (1.1G) [binary/octet-stream]\n",
      "Saving to: ‘partition4.zip’\n",
      "\n",
      "partition4.zip      100%[===================>]   1.07G  56.6MB/s    in 19s     \n",
      "\n",
      "2021-01-31 13:06:36 (57.9 MB/s) - ‘partition4.zip’ saved [1149683901/1149683901]\n",
      "\n",
      "--2021-01-31 13:06:36--  https://nia-outputs-for-kaist-v2.s3.ap-northeast-2.amazonaws.com/dataset/mqset/train/partition5.zip\n",
      "Resolving nia-outputs-for-kaist-v2.s3.ap-northeast-2.amazonaws.com (nia-outputs-for-kaist-v2.s3.ap-northeast-2.amazonaws.com)... 52.219.58.19\n",
      "Connecting to nia-outputs-for-kaist-v2.s3.ap-northeast-2.amazonaws.com (nia-outputs-for-kaist-v2.s3.ap-northeast-2.amazonaws.com)|52.219.58.19|:443... connected.\n",
      "HTTP request sent, awaiting response... 200 OK\n",
      "Length: 1157763348 (1.1G) [binary/octet-stream]\n",
      "Saving to: ‘partition5.zip’\n",
      "\n",
      "partition5.zip      100%[===================>]   1.08G  56.5MB/s    in 20s     \n",
      "\n",
      "2021-01-31 13:06:57 (54.4 MB/s) - ‘partition5.zip’ saved [1157763348/1157763348]\n",
      "\n",
      "--2021-01-31 13:06:57--  https://nia-outputs-for-kaist-v2.s3.ap-northeast-2.amazonaws.com/dataset/mqset/train/partition6.zip\n",
      "Resolving nia-outputs-for-kaist-v2.s3.ap-northeast-2.amazonaws.com (nia-outputs-for-kaist-v2.s3.ap-northeast-2.amazonaws.com)... 52.219.58.11\n",
      "Connecting to nia-outputs-for-kaist-v2.s3.ap-northeast-2.amazonaws.com (nia-outputs-for-kaist-v2.s3.ap-northeast-2.amazonaws.com)|52.219.58.11|:443... connected.\n",
      "HTTP request sent, awaiting response... 200 OK\n",
      "Length: 1144354825 (1.1G) [binary/octet-stream]\n",
      "Saving to: ‘partition6.zip’\n",
      "\n",
      "partition6.zip      100%[===================>]   1.07G  55.1MB/s    in 20s     \n",
      "\n",
      "2021-01-31 13:07:17 (55.6 MB/s) - ‘partition6.zip’ saved [1144354825/1144354825]\n",
      "\n",
      "--2021-01-31 13:07:18--  https://nia-outputs-for-kaist-v2.s3.ap-northeast-2.amazonaws.com/dataset/mqset/train/partition7.zip\n",
      "Resolving nia-outputs-for-kaist-v2.s3.ap-northeast-2.amazonaws.com (nia-outputs-for-kaist-v2.s3.ap-northeast-2.amazonaws.com)... 52.219.56.39\n",
      "Connecting to nia-outputs-for-kaist-v2.s3.ap-northeast-2.amazonaws.com (nia-outputs-for-kaist-v2.s3.ap-northeast-2.amazonaws.com)|52.219.56.39|:443... connected.\n",
      "HTTP request sent, awaiting response... 200 OK\n",
      "Length: 1162391996 (1.1G) [binary/octet-stream]\n",
      "Saving to: ‘partition7.zip’\n",
      "\n",
      "partition7.zip      100%[===================>]   1.08G  59.9MB/s    in 20s     \n",
      "\n",
      "2021-01-31 13:07:38 (54.9 MB/s) - ‘partition7.zip’ saved [1162391996/1162391996]\n",
      "\n",
      "--2021-01-31 13:07:38--  https://nia-outputs-for-kaist-v2.s3.ap-northeast-2.amazonaws.com/dataset/mqset/train/partition8.zip\n",
      "Resolving nia-outputs-for-kaist-v2.s3.ap-northeast-2.amazonaws.com (nia-outputs-for-kaist-v2.s3.ap-northeast-2.amazonaws.com)... 52.219.60.67\n",
      "Connecting to nia-outputs-for-kaist-v2.s3.ap-northeast-2.amazonaws.com (nia-outputs-for-kaist-v2.s3.ap-northeast-2.amazonaws.com)|52.219.60.67|:443... connected.\n",
      "HTTP request sent, awaiting response... 200 OK\n",
      "Length: 1170974176 (1.1G) [binary/octet-stream]\n",
      "Saving to: ‘partition8.zip’\n",
      "\n",
      "partition8.zip      100%[===================>]   1.09G  55.7MB/s    in 20s     \n",
      "\n",
      "2021-01-31 13:07:58 (56.5 MB/s) - ‘partition8.zip’ saved [1170974176/1170974176]\n",
      "\n",
      "--2021-01-31 13:07:59--  https://nia-outputs-for-kaist-v2.s3.ap-northeast-2.amazonaws.com/dataset/mqset/train/partition9.zip\n",
      "Resolving nia-outputs-for-kaist-v2.s3.ap-northeast-2.amazonaws.com (nia-outputs-for-kaist-v2.s3.ap-northeast-2.amazonaws.com)... 52.219.60.111\n",
      "Connecting to nia-outputs-for-kaist-v2.s3.ap-northeast-2.amazonaws.com (nia-outputs-for-kaist-v2.s3.ap-northeast-2.amazonaws.com)|52.219.60.111|:443... connected.\n",
      "HTTP request sent, awaiting response... 200 OK\n",
      "Length: 1105844285 (1.0G) [binary/octet-stream]\n",
      "Saving to: ‘partition9.zip’\n",
      "\n",
      "partition9.zip      100%[===================>]   1.03G  50.6MB/s    in 20s     \n",
      "\n",
      "2021-01-31 13:08:19 (53.4 MB/s) - ‘partition9.zip’ saved [1105844285/1105844285]\n",
      "\n"
     ]
    }
   ],
   "source": [
    "!wget https://nia-outputs-for-kaist-v2.s3.ap-northeast-2.amazonaws.com/dataset/mqset/train/annotation.csv\n",
    "!wget https://nia-outputs-for-kaist-v2.s3.ap-northeast-2.amazonaws.com/dataset/mqset/train/exifdata.json\n",
    "!wget https://nia-outputs-for-kaist-v2.s3.ap-northeast-2.amazonaws.com/dataset/mqset/train/meta-annotation.csv\n",
    "!wget https://nia-outputs-for-kaist-v2.s3.ap-northeast-2.amazonaws.com/dataset/mqset/train/optional-annotation.csv\n",
    "!wget https://nia-outputs-for-kaist-v2.s3.ap-northeast-2.amazonaws.com/dataset/mqset/train/partition1.zip\n",
    "!wget https://nia-outputs-for-kaist-v2.s3.ap-northeast-2.amazonaws.com/dataset/mqset/train/partition10.zip\n",
    "!wget https://nia-outputs-for-kaist-v2.s3.ap-northeast-2.amazonaws.com/dataset/mqset/train/partition11.zip\n",
    "!wget https://nia-outputs-for-kaist-v2.s3.ap-northeast-2.amazonaws.com/dataset/mqset/train/partition2.zip\n",
    "!wget https://nia-outputs-for-kaist-v2.s3.ap-northeast-2.amazonaws.com/dataset/mqset/train/partition3.zip\n",
    "!wget https://nia-outputs-for-kaist-v2.s3.ap-northeast-2.amazonaws.com/dataset/mqset/train/partition4.zip\n",
    "!wget https://nia-outputs-for-kaist-v2.s3.ap-northeast-2.amazonaws.com/dataset/mqset/train/partition5.zip\n",
    "!wget https://nia-outputs-for-kaist-v2.s3.ap-northeast-2.amazonaws.com/dataset/mqset/train/partition6.zip\n",
    "!wget https://nia-outputs-for-kaist-v2.s3.ap-northeast-2.amazonaws.com/dataset/mqset/train/partition7.zip\n",
    "!wget https://nia-outputs-for-kaist-v2.s3.ap-northeast-2.amazonaws.com/dataset/mqset/train/partition8.zip\n",
    "!wget https://nia-outputs-for-kaist-v2.s3.ap-northeast-2.amazonaws.com/dataset/mqset/train/partition9.zip"
   ]
  },
  {
   "cell_type": "code",
   "execution_count": 7,
   "id": "entertaining-finger",
   "metadata": {},
   "outputs": [
    {
     "name": "stdout",
     "output_type": "stream",
     "text": [
      "Collecting pandas\n",
      "\u001b[?25l  Downloading https://files.pythonhosted.org/packages/c3/e2/00cacecafbab071c787019f00ad84ca3185952f6bb9bca9550ed83870d4d/pandas-1.1.5-cp36-cp36m-manylinux1_x86_64.whl (9.5MB)\n",
      "\u001b[K    100% |████████████████████████████████| 9.5MB 4.6MB/s eta 0:00:01\n",
      "\u001b[?25hRequirement already satisfied: python-dateutil>=2.7.3 in /usr/local/lib/python3.6/site-packages (from pandas) (2.8.1)\n",
      "Requirement already satisfied: numpy>=1.15.4 in /usr/local/lib/python3.6/site-packages (from pandas) (1.19.5)\n",
      "Collecting pytz>=2017.2 (from pandas)\n",
      "\u001b[?25l  Downloading https://files.pythonhosted.org/packages/89/06/2c2d3034b4d6bf22f2a4ae546d16925898658a33b4400cfb7e2c1e2871a3/pytz-2020.5-py2.py3-none-any.whl (510kB)\n",
      "\u001b[K    100% |████████████████████████████████| 512kB 22.3MB/s ta 0:00:01\n",
      "\u001b[?25hRequirement already satisfied: six>=1.5 in /usr/local/lib/python3.6/site-packages (from python-dateutil>=2.7.3->pandas) (1.15.0)\n",
      "Installing collected packages: pytz, pandas\n",
      "Successfully installed pandas-1.1.5 pytz-2020.5\n",
      "\u001b[33mYou are using pip version 10.0.1, however version 21.0.1 is available.\n",
      "You should consider upgrading via the 'pip install --upgrade pip' command.\u001b[0m\n"
     ]
    }
   ],
   "source": [
    "!pip3 install pandas"
   ]
  },
  {
   "cell_type": "code",
   "execution_count": 34,
   "id": "described-testimony",
   "metadata": {},
   "outputs": [
    {
     "data": {
      "text/plain": [
       "[1, 2, 3, 4, 5, 6, 7, 8, 9]"
      ]
     },
     "execution_count": 34,
     "metadata": {},
     "output_type": "execute_result"
    }
   ],
   "source": [
    "list(range(1,10))"
   ]
  },
  {
   "cell_type": "code",
   "execution_count": null,
   "id": "adequate-period",
   "metadata": {},
   "outputs": [],
   "source": []
  },
  {
   "cell_type": "code",
   "execution_count": 41,
   "id": "transsexual-mauritius",
   "metadata": {},
   "outputs": [
    {
     "data": {
      "text/plain": [
       "[1, 10001, 20001]"
      ]
     },
     "execution_count": 41,
     "metadata": {},
     "output_type": "execute_result"
    }
   ],
   "source": [
    "list(range(1,25235,10000))"
   ]
  },
  {
   "cell_type": "code",
   "execution_count": 43,
   "id": "internal-owner",
   "metadata": {},
   "outputs": [
    {
     "data": {
      "text/html": [
       "<div>\n",
       "<style scoped>\n",
       "    .dataframe tbody tr th:only-of-type {\n",
       "        vertical-align: middle;\n",
       "    }\n",
       "\n",
       "    .dataframe tbody tr th {\n",
       "        vertical-align: top;\n",
       "    }\n",
       "\n",
       "    .dataframe thead th {\n",
       "        text-align: right;\n",
       "    }\n",
       "</style>\n",
       "<table border=\"1\" class=\"dataframe\">\n",
       "  <thead>\n",
       "    <tr style=\"text-align: right;\">\n",
       "      <th></th>\n",
       "      <th>id</th>\n",
       "      <th>path</th>\n",
       "      <th>source</th>\n",
       "      <th>collect-type</th>\n",
       "      <th>author</th>\n",
       "      <th>collect-date</th>\n",
       "      <th>polygon1</th>\n",
       "      <th>polygon2</th>\n",
       "      <th>before-after</th>\n",
       "      <th>height</th>\n",
       "      <th>width</th>\n",
       "      <th>device</th>\n",
       "    </tr>\n",
       "  </thead>\n",
       "  <tbody>\n",
       "    <tr>\n",
       "      <th>0</th>\n",
       "      <td>ba4ddeaf-b395-4c2b-b409-02cd456059ab</td>\n",
       "      <td>../images/JS126058-170.jpg</td>\n",
       "      <td>JS126058</td>\n",
       "      <td>진솔</td>\n",
       "      <td>김현호</td>\n",
       "      <td>2020:09:28 13:40:35</td>\n",
       "      <td>[[{'x': 225.67494201660156, 'y': 8.53615474700...</td>\n",
       "      <td>[[{'x': 271.93829345703125, 'y': 112.346626281...</td>\n",
       "      <td>after</td>\n",
       "      <td>512</td>\n",
       "      <td>512</td>\n",
       "      <td>SM-A516N</td>\n",
       "    </tr>\n",
       "    <tr>\n",
       "      <th>1</th>\n",
       "      <td>2757280c-2e86-4f10-a6cf-f1a33e7c9390</td>\n",
       "      <td>../images/JS038313-140.jpg</td>\n",
       "      <td>JS038313</td>\n",
       "      <td>진솔</td>\n",
       "      <td>이선행</td>\n",
       "      <td>2020:09:22 15:01:37</td>\n",
       "      <td>[[{'x': 253.93179321289062, 'y': 24.4570522308...</td>\n",
       "      <td>[]</td>\n",
       "      <td>after</td>\n",
       "      <td>512</td>\n",
       "      <td>512</td>\n",
       "      <td>SM-N976N</td>\n",
       "    </tr>\n",
       "  </tbody>\n",
       "</table>\n",
       "</div>"
      ],
      "text/plain": [
       "                                     id                        path    source  \\\n",
       "0  ba4ddeaf-b395-4c2b-b409-02cd456059ab  ../images/JS126058-170.jpg  JS126058   \n",
       "1  2757280c-2e86-4f10-a6cf-f1a33e7c9390  ../images/JS038313-140.jpg  JS038313   \n",
       "\n",
       "  collect-type author         collect-date  \\\n",
       "0           진솔    김현호  2020:09:28 13:40:35   \n",
       "1           진솔    이선행  2020:09:22 15:01:37   \n",
       "\n",
       "                                            polygon1  \\\n",
       "0  [[{'x': 225.67494201660156, 'y': 8.53615474700...   \n",
       "1  [[{'x': 253.93179321289062, 'y': 24.4570522308...   \n",
       "\n",
       "                                            polygon2 before-after  height  \\\n",
       "0  [[{'x': 271.93829345703125, 'y': 112.346626281...        after     512   \n",
       "1                                                 []        after     512   \n",
       "\n",
       "   width    device  \n",
       "0    512  SM-A516N  \n",
       "1    512  SM-N976N  "
      ]
     },
     "execution_count": 43,
     "metadata": {},
     "output_type": "execute_result"
    }
   ],
   "source": [
    "df[:2]"
   ]
  },
  {
   "cell_type": "code",
   "execution_count": 13,
   "id": "south-import",
   "metadata": {},
   "outputs": [],
   "source": [
    "import pandas as pd\n",
    "import json\n",
    "index = 0\n",
    "for i in range(1,11):\n",
    "    df = pd.read_csv('/main/dataset/partition{i}/annotations/meta-annotation.csv')\n",
    "    df['path'] = df['path'].apply(lambda x : x.replace('../images/', f'/dataset/partition{i}/'))    \n",
    "    df.to_csv(f'/main/dataset/meta-annotation-{index}.csv')\n",
    "    step = 10000\n",
    "    for cur in range(0,len(df),step):\n",
    "        df2 = df[cur:cur+step]\n",
    "        df2.index = range(len(df2))\n",
    "        df2.to_csv\n",
    "    with open(f'/main/dataset/partition{i}/annotations/exifdata.json', 'rt') as f:\n",
    "        lj = json.loads(f.read())\n",
    "    for t in lj:\n",
    "        t['path'] = t['path'].replace('../images/', f'/dataset/partition{i}/')\n",
    "    with open(f'/main/dataset/exifdata-{index}.json', 'wt') as f:\n",
    "        f.write(json.dumps(lj, ensure_ascii=False))\n",
    "    "
   ]
  },
  {
   "cell_type": "code",
   "execution_count": 40,
   "id": "reverse-developer",
   "metadata": {},
   "outputs": [
    {
     "data": {
      "text/html": [
       "<div>\n",
       "<style scoped>\n",
       "    .dataframe tbody tr th:only-of-type {\n",
       "        vertical-align: middle;\n",
       "    }\n",
       "\n",
       "    .dataframe tbody tr th {\n",
       "        vertical-align: top;\n",
       "    }\n",
       "\n",
       "    .dataframe thead th {\n",
       "        text-align: right;\n",
       "    }\n",
       "</style>\n",
       "<table border=\"1\" class=\"dataframe\">\n",
       "  <thead>\n",
       "    <tr style=\"text-align: right;\">\n",
       "      <th></th>\n",
       "      <th>id</th>\n",
       "      <th>path</th>\n",
       "      <th>source</th>\n",
       "      <th>collect-type</th>\n",
       "      <th>author</th>\n",
       "      <th>collect-date</th>\n",
       "      <th>polygon1</th>\n",
       "      <th>polygon2</th>\n",
       "      <th>before-after</th>\n",
       "      <th>height</th>\n",
       "      <th>width</th>\n",
       "      <th>device</th>\n",
       "    </tr>\n",
       "  </thead>\n",
       "  <tbody>\n",
       "    <tr>\n",
       "      <th>0</th>\n",
       "      <td>ba4ddeaf-b395-4c2b-b409-02cd456059ab</td>\n",
       "      <td>../images/JS126058-170.jpg</td>\n",
       "      <td>JS126058</td>\n",
       "      <td>진솔</td>\n",
       "      <td>김현호</td>\n",
       "      <td>2020:09:28 13:40:35</td>\n",
       "      <td>[[{'x': 225.67494201660156, 'y': 8.53615474700...</td>\n",
       "      <td>[[{'x': 271.93829345703125, 'y': 112.346626281...</td>\n",
       "      <td>after</td>\n",
       "      <td>512</td>\n",
       "      <td>512</td>\n",
       "      <td>SM-A516N</td>\n",
       "    </tr>\n",
       "    <tr>\n",
       "      <th>1</th>\n",
       "      <td>2757280c-2e86-4f10-a6cf-f1a33e7c9390</td>\n",
       "      <td>../images/JS038313-140.jpg</td>\n",
       "      <td>JS038313</td>\n",
       "      <td>진솔</td>\n",
       "      <td>이선행</td>\n",
       "      <td>2020:09:22 15:01:37</td>\n",
       "      <td>[[{'x': 253.93179321289062, 'y': 24.4570522308...</td>\n",
       "      <td>[]</td>\n",
       "      <td>after</td>\n",
       "      <td>512</td>\n",
       "      <td>512</td>\n",
       "      <td>SM-N976N</td>\n",
       "    </tr>\n",
       "    <tr>\n",
       "      <th>2</th>\n",
       "      <td>1e7097b6-7c6c-40db-bf4b-68fc1b5498a7</td>\n",
       "      <td>../images/JS036137-045.jpg</td>\n",
       "      <td>JS036137</td>\n",
       "      <td>진솔</td>\n",
       "      <td>이선행</td>\n",
       "      <td>2020:09:22 13:09:11</td>\n",
       "      <td>[[{'x': 144.4515838623047, 'y': 308.8746337890...</td>\n",
       "      <td>[]</td>\n",
       "      <td>before</td>\n",
       "      <td>512</td>\n",
       "      <td>512</td>\n",
       "      <td>SM-N976N</td>\n",
       "    </tr>\n",
       "    <tr>\n",
       "      <th>3</th>\n",
       "      <td>3dc1bc90-c5a2-4fc2-b355-2cf11f18b2e0</td>\n",
       "      <td>../images/AP054876-111.jpg</td>\n",
       "      <td>AP054876</td>\n",
       "      <td>진솔</td>\n",
       "      <td>김영훈</td>\n",
       "      <td>2020:09:24 11:54:35</td>\n",
       "      <td>[[{'x': 242.1621551513672, 'y': 184.9575347900...</td>\n",
       "      <td>[[{'x': 280.26275634765625, 'y': 176.119873046...</td>\n",
       "      <td>after</td>\n",
       "      <td>512</td>\n",
       "      <td>512</td>\n",
       "      <td>SM-N950N</td>\n",
       "    </tr>\n",
       "    <tr>\n",
       "      <th>4</th>\n",
       "      <td>4b63e499-57ec-4019-b807-0076504e6d10</td>\n",
       "      <td>../images/AP086439-028.jpg</td>\n",
       "      <td>AP086439</td>\n",
       "      <td>진솔</td>\n",
       "      <td>김영훈</td>\n",
       "      <td>2020:09:24 15:53:09</td>\n",
       "      <td>[[{'x': 187.58828735351562, 'y': 84.8498611450...</td>\n",
       "      <td>[[{'x': 178.9654541015625, 'y': 121.0542602539...</td>\n",
       "      <td>before</td>\n",
       "      <td>512</td>\n",
       "      <td>512</td>\n",
       "      <td>SM-G988N</td>\n",
       "    </tr>\n",
       "    <tr>\n",
       "      <th>...</th>\n",
       "      <td>...</td>\n",
       "      <td>...</td>\n",
       "      <td>...</td>\n",
       "      <td>...</td>\n",
       "      <td>...</td>\n",
       "      <td>...</td>\n",
       "      <td>...</td>\n",
       "      <td>...</td>\n",
       "      <td>...</td>\n",
       "      <td>...</td>\n",
       "      <td>...</td>\n",
       "      <td>...</td>\n",
       "    </tr>\n",
       "    <tr>\n",
       "      <th>25201</th>\n",
       "      <td>96e489e4-96c3-4ac5-8d3c-bf9bf34cc591</td>\n",
       "      <td>../images/AP360797-047.jpg</td>\n",
       "      <td>AP360797</td>\n",
       "      <td>진솔</td>\n",
       "      <td>박아림</td>\n",
       "      <td>2020:10:06 13:32:35</td>\n",
       "      <td>[[{'x': 178.16917419433594, 'y': 26.0911350250...</td>\n",
       "      <td>[]</td>\n",
       "      <td>before</td>\n",
       "      <td>512</td>\n",
       "      <td>512</td>\n",
       "      <td>SM-N950N</td>\n",
       "    </tr>\n",
       "    <tr>\n",
       "      <th>25202</th>\n",
       "      <td>66f854cd-995a-4b04-9882-b8475f061083</td>\n",
       "      <td>../images/JS314324-146.jpg</td>\n",
       "      <td>JS314324</td>\n",
       "      <td>진솔</td>\n",
       "      <td>김현호</td>\n",
       "      <td>2020:10:06 12:18:47</td>\n",
       "      <td>[[{'x': 171.32357788085938, 'y': 145.267944335...</td>\n",
       "      <td>[]</td>\n",
       "      <td>after</td>\n",
       "      <td>512</td>\n",
       "      <td>512</td>\n",
       "      <td>SM-G988N</td>\n",
       "    </tr>\n",
       "    <tr>\n",
       "      <th>25203</th>\n",
       "      <td>81d3c1d6-9616-43cd-b731-5e585e6c4e9e</td>\n",
       "      <td>../images/AP300097-167.jpg</td>\n",
       "      <td>AP300097</td>\n",
       "      <td>진솔</td>\n",
       "      <td>박아림</td>\n",
       "      <td>2020:10:05 15:58:53</td>\n",
       "      <td>[[{'x': 168.18295288085938, 'y': 260.444793701...</td>\n",
       "      <td>[[{'x': 310.4177551269531, 'y': 129.3555450439...</td>\n",
       "      <td>after</td>\n",
       "      <td>512</td>\n",
       "      <td>512</td>\n",
       "      <td>SM-G988N</td>\n",
       "    </tr>\n",
       "    <tr>\n",
       "      <th>25204</th>\n",
       "      <td>76476519-9f17-4e65-8daa-472b99fcf7eb</td>\n",
       "      <td>../images/AP360797-137.jpg</td>\n",
       "      <td>AP360797</td>\n",
       "      <td>진솔</td>\n",
       "      <td>박아림</td>\n",
       "      <td>2020:10:06 14:12:06</td>\n",
       "      <td>[[{'x': 209.49853515625, 'y': 13.9383707046508...</td>\n",
       "      <td>[[{'x': 121.91720581054688, 'y': 109.481643676...</td>\n",
       "      <td>after</td>\n",
       "      <td>512</td>\n",
       "      <td>512</td>\n",
       "      <td>SM-N950N</td>\n",
       "    </tr>\n",
       "    <tr>\n",
       "      <th>25205</th>\n",
       "      <td>eb0ad99c-0d80-4b61-911e-eebd04d7f776</td>\n",
       "      <td>../images/AP348617-002.jpg</td>\n",
       "      <td>AP348617</td>\n",
       "      <td>진솔</td>\n",
       "      <td>박아림</td>\n",
       "      <td>2020:10:06 11:41:24</td>\n",
       "      <td>[[{'x': 302.2208557128906, 'y': 102.3897171020...</td>\n",
       "      <td>[[{'x': 221.93324279785156, 'y': 132.415969848...</td>\n",
       "      <td>before</td>\n",
       "      <td>512</td>\n",
       "      <td>512</td>\n",
       "      <td>SM-N950N</td>\n",
       "    </tr>\n",
       "  </tbody>\n",
       "</table>\n",
       "<p>25206 rows × 12 columns</p>\n",
       "</div>"
      ],
      "text/plain": [
       "                                         id                        path  \\\n",
       "0      ba4ddeaf-b395-4c2b-b409-02cd456059ab  ../images/JS126058-170.jpg   \n",
       "1      2757280c-2e86-4f10-a6cf-f1a33e7c9390  ../images/JS038313-140.jpg   \n",
       "2      1e7097b6-7c6c-40db-bf4b-68fc1b5498a7  ../images/JS036137-045.jpg   \n",
       "3      3dc1bc90-c5a2-4fc2-b355-2cf11f18b2e0  ../images/AP054876-111.jpg   \n",
       "4      4b63e499-57ec-4019-b807-0076504e6d10  ../images/AP086439-028.jpg   \n",
       "...                                     ...                         ...   \n",
       "25201  96e489e4-96c3-4ac5-8d3c-bf9bf34cc591  ../images/AP360797-047.jpg   \n",
       "25202  66f854cd-995a-4b04-9882-b8475f061083  ../images/JS314324-146.jpg   \n",
       "25203  81d3c1d6-9616-43cd-b731-5e585e6c4e9e  ../images/AP300097-167.jpg   \n",
       "25204  76476519-9f17-4e65-8daa-472b99fcf7eb  ../images/AP360797-137.jpg   \n",
       "25205  eb0ad99c-0d80-4b61-911e-eebd04d7f776  ../images/AP348617-002.jpg   \n",
       "\n",
       "         source collect-type author         collect-date  \\\n",
       "0      JS126058           진솔    김현호  2020:09:28 13:40:35   \n",
       "1      JS038313           진솔    이선행  2020:09:22 15:01:37   \n",
       "2      JS036137           진솔    이선행  2020:09:22 13:09:11   \n",
       "3      AP054876           진솔    김영훈  2020:09:24 11:54:35   \n",
       "4      AP086439           진솔    김영훈  2020:09:24 15:53:09   \n",
       "...         ...          ...    ...                  ...   \n",
       "25201  AP360797           진솔    박아림  2020:10:06 13:32:35   \n",
       "25202  JS314324           진솔    김현호  2020:10:06 12:18:47   \n",
       "25203  AP300097           진솔    박아림  2020:10:05 15:58:53   \n",
       "25204  AP360797           진솔    박아림  2020:10:06 14:12:06   \n",
       "25205  AP348617           진솔    박아림  2020:10:06 11:41:24   \n",
       "\n",
       "                                                polygon1  \\\n",
       "0      [[{'x': 225.67494201660156, 'y': 8.53615474700...   \n",
       "1      [[{'x': 253.93179321289062, 'y': 24.4570522308...   \n",
       "2      [[{'x': 144.4515838623047, 'y': 308.8746337890...   \n",
       "3      [[{'x': 242.1621551513672, 'y': 184.9575347900...   \n",
       "4      [[{'x': 187.58828735351562, 'y': 84.8498611450...   \n",
       "...                                                  ...   \n",
       "25201  [[{'x': 178.16917419433594, 'y': 26.0911350250...   \n",
       "25202  [[{'x': 171.32357788085938, 'y': 145.267944335...   \n",
       "25203  [[{'x': 168.18295288085938, 'y': 260.444793701...   \n",
       "25204  [[{'x': 209.49853515625, 'y': 13.9383707046508...   \n",
       "25205  [[{'x': 302.2208557128906, 'y': 102.3897171020...   \n",
       "\n",
       "                                                polygon2 before-after  height  \\\n",
       "0      [[{'x': 271.93829345703125, 'y': 112.346626281...        after     512   \n",
       "1                                                     []        after     512   \n",
       "2                                                     []       before     512   \n",
       "3      [[{'x': 280.26275634765625, 'y': 176.119873046...        after     512   \n",
       "4      [[{'x': 178.9654541015625, 'y': 121.0542602539...       before     512   \n",
       "...                                                  ...          ...     ...   \n",
       "25201                                                 []       before     512   \n",
       "25202                                                 []        after     512   \n",
       "25203  [[{'x': 310.4177551269531, 'y': 129.3555450439...        after     512   \n",
       "25204  [[{'x': 121.91720581054688, 'y': 109.481643676...        after     512   \n",
       "25205  [[{'x': 221.93324279785156, 'y': 132.415969848...       before     512   \n",
       "\n",
       "       width    device  \n",
       "0        512  SM-A516N  \n",
       "1        512  SM-N976N  \n",
       "2        512  SM-N976N  \n",
       "3        512  SM-N950N  \n",
       "4        512  SM-G988N  \n",
       "...      ...       ...  \n",
       "25201    512  SM-N950N  \n",
       "25202    512  SM-G988N  \n",
       "25203    512  SM-G988N  \n",
       "25204    512  SM-N950N  \n",
       "25205    512  SM-N950N  \n",
       "\n",
       "[25206 rows x 12 columns]"
      ]
     },
     "execution_count": 40,
     "metadata": {},
     "output_type": "execute_result"
    }
   ],
   "source": [
    "df = pd.read_csv('/main/dataset/partition1/annotations/meta-annotation.csv')\n",
    "df"
   ]
  },
  {
   "cell_type": "code",
   "execution_count": 44,
   "id": "experienced-blink",
   "metadata": {},
   "outputs": [
    {
     "name": "stdout",
     "output_type": "stream",
     "text": [
      "--2021-01-31 10:59:59--  https://nia-outputs-for-kaist-v2.s3.ap-northeast-2.amazonaws.com/dataset/mqset/train/annotation.csv\n",
      "Resolving nia-outputs-for-kaist-v2.s3.ap-northeast-2.amazonaws.com (nia-outputs-for-kaist-v2.s3.ap-northeast-2.amazonaws.com)... 52.219.60.19\n",
      "Connecting to nia-outputs-for-kaist-v2.s3.ap-northeast-2.amazonaws.com (nia-outputs-for-kaist-v2.s3.ap-northeast-2.amazonaws.com)|52.219.60.19|:443... connected.\n",
      "HTTP request sent, awaiting response... 200 OK\n",
      "Length: 55941343 (53M) [binary/octet-stream]\n",
      "Saving to: ‘annotation.csv’\n",
      "\n",
      "annotation.csv      100%[===================>]  53.35M   114MB/s    in 0.5s    \n",
      "\n",
      "2021-01-31 10:59:59 (114 MB/s) - ‘annotation.csv’ saved [55941343/55941343]\n",
      "\n",
      "--2021-01-31 11:00:00--  https://nia-outputs-for-kaist-v2.s3.ap-northeast-2.amazonaws.com/dataset/mqset/train/exifdata.json\n",
      "Resolving nia-outputs-for-kaist-v2.s3.ap-northeast-2.amazonaws.com (nia-outputs-for-kaist-v2.s3.ap-northeast-2.amazonaws.com)... 52.219.60.19\n",
      "Connecting to nia-outputs-for-kaist-v2.s3.ap-northeast-2.amazonaws.com (nia-outputs-for-kaist-v2.s3.ap-northeast-2.amazonaws.com)|52.219.60.19|:443... connected.\n",
      "HTTP request sent, awaiting response... 200 OK\n",
      "Length: 386370722 (368M) [binary/octet-stream]\n",
      "Saving to: ‘exifdata.json’\n",
      "\n",
      "exifdata.json       100%[===================>] 368.47M  95.4MB/s    in 3.8s    \n",
      "\n",
      "2021-01-31 11:00:04 (98.2 MB/s) - ‘exifdata.json’ saved [386370722/386370722]\n",
      "\n",
      "--2021-01-31 11:00:04--  https://nia-outputs-for-kaist-v2.s3.ap-northeast-2.amazonaws.com/dataset/mqset/train/meta-annotation.csv\n",
      "Resolving nia-outputs-for-kaist-v2.s3.ap-northeast-2.amazonaws.com (nia-outputs-for-kaist-v2.s3.ap-northeast-2.amazonaws.com)... 52.219.60.99\n",
      "Connecting to nia-outputs-for-kaist-v2.s3.ap-northeast-2.amazonaws.com (nia-outputs-for-kaist-v2.s3.ap-northeast-2.amazonaws.com)|52.219.60.99|:443... connected.\n",
      "HTTP request sent, awaiting response... 200 OK\n",
      "Length: 1170988002 (1.1G) [binary/octet-stream]\n",
      "Saving to: ‘meta-annotation.csv’\n",
      "\n",
      "meta-annotation.csv 100%[===================>]   1.09G  95.4MB/s    in 12s     \n",
      "\n",
      "2021-01-31 11:00:16 (96.1 MB/s) - ‘meta-annotation.csv’ saved [1170988002/1170988002]\n",
      "\n",
      "--2021-01-31 11:00:17--  https://nia-outputs-for-kaist-v2.s3.ap-northeast-2.amazonaws.com/dataset/mqset/train/optional-annotation.csv\n",
      "Resolving nia-outputs-for-kaist-v2.s3.ap-northeast-2.amazonaws.com (nia-outputs-for-kaist-v2.s3.ap-northeast-2.amazonaws.com)... 52.219.148.39\n",
      "Connecting to nia-outputs-for-kaist-v2.s3.ap-northeast-2.amazonaws.com (nia-outputs-for-kaist-v2.s3.ap-northeast-2.amazonaws.com)|52.219.148.39|:443... connected.\n",
      "HTTP request sent, awaiting response... 200 OK\n",
      "Length: 144087 (141K) [binary/octet-stream]\n",
      "Saving to: ‘optional-annotation.csv’\n",
      "\n",
      "optional-annotation 100%[===================>] 140.71K  --.-KB/s    in 0.001s  \n",
      "\n",
      "2021-01-31 11:00:17 (96.3 MB/s) - ‘optional-annotation.csv’ saved [144087/144087]\n",
      "\n"
     ]
    }
   ],
   "source": [
    "!wget https://nia-outputs-for-kaist-v2.s3.ap-northeast-2.amazonaws.com/dataset/mqset/train/annotation.csv\n",
    "!wget https://nia-outputs-for-kaist-v2.s3.ap-northeast-2.amazonaws.com/dataset/mqset/train/exifdata.json\n",
    "!wget https://nia-outputs-for-kaist-v2.s3.ap-northeast-2.amazonaws.com/dataset/mqset/train/meta-annotation.csv\n",
    "!wget https://nia-outputs-for-kaist-v2.s3.ap-northeast-2.amazonaws.com/dataset/mqset/train/optional-annotation.csv"
   ]
  },
  {
   "cell_type": "code",
   "execution_count": 13,
   "id": "meaning-bridge",
   "metadata": {},
   "outputs": [],
   "source": [
    "import pandas as pd\n",
    "import json"
   ]
  },
  {
   "cell_type": "code",
   "execution_count": 14,
   "id": "textile-simple",
   "metadata": {},
   "outputs": [],
   "source": [
    "anno = pd.read_csv('annotation.csv')\n",
    "manno = pd.read_csv('meta-annotation.csv')\n",
    "with open('exifdata.json', 'rt') as f:\n",
    "    exif = json.loads(f.read())\n",
    "opanno = pd.read_csv('optional-annotation.csv')"
   ]
  },
  {
   "cell_type": "code",
   "execution_count": 15,
   "id": "smooth-myanmar",
   "metadata": {},
   "outputs": [],
   "source": [
    "exif = pd.DataFrame(exif)"
   ]
  },
  {
   "cell_type": "code",
   "execution_count": 16,
   "id": "constant-composite",
   "metadata": {},
   "outputs": [
    {
     "data": {
      "text/plain": [
       "Index(['id', 'basestyle', 'basestyle-type', 'length', 'curl', 'bang', 'loss',\n",
       "       'side', 'age', 'front', 'horizontal', 'vertical', 'color', 'partition',\n",
       "       'sex', 'exceptional', 'rgb'],\n",
       "      dtype='object')"
      ]
     },
     "execution_count": 16,
     "metadata": {},
     "output_type": "execute_result"
    }
   ],
   "source": [
    "anno.columns"
   ]
  },
  {
   "cell_type": "code",
   "execution_count": 17,
   "id": "demographic-apartment",
   "metadata": {},
   "outputs": [
    {
     "data": {
      "text/plain": [
       "Index(['id', 'path', 'source', 'collect-type', 'author', 'collect-date',\n",
       "       'polygon1', 'polygon2', 'before-after', 'height', 'width', 'device'],\n",
       "      dtype='object')"
      ]
     },
     "execution_count": 17,
     "metadata": {},
     "output_type": "execute_result"
    }
   ],
   "source": [
    "manno.columns"
   ]
  },
  {
   "cell_type": "code",
   "execution_count": 18,
   "id": "conscious-ordering",
   "metadata": {},
   "outputs": [
    {
     "data": {
      "text/plain": [
       "Index(['source', 'hair-width', 'water-repellency', 'natural-curl', 'damage',\n",
       "       'melanin-color', 'decolorize-history', 'black-colorize', 'patch-test',\n",
       "       'user-stisfied', 'designer-satisfied', 'comment'],\n",
       "      dtype='object')"
      ]
     },
     "execution_count": 18,
     "metadata": {},
     "output_type": "execute_result"
    }
   ],
   "source": [
    "opanno.columns"
   ]
  },
  {
   "cell_type": "code",
   "execution_count": 19,
   "id": "turkish-niger",
   "metadata": {},
   "outputs": [],
   "source": [
    "df = pd.merge(anno, manno, on='id')"
   ]
  },
  {
   "cell_type": "code",
   "execution_count": null,
   "id": "proud-passion",
   "metadata": {},
   "outputs": [],
   "source": []
  },
  {
   "cell_type": "code",
   "execution_count": 20,
   "id": "silver-concept",
   "metadata": {},
   "outputs": [
    {
     "data": {
      "text/plain": [
       "256679"
      ]
     },
     "execution_count": 20,
     "metadata": {},
     "output_type": "execute_result"
    }
   ],
   "source": [
    "df = pd.merge(df, opanno, left_on = 'source', right_on='source')\n",
    "len(df)"
   ]
  },
  {
   "cell_type": "code",
   "execution_count": 21,
   "id": "excess-childhood",
   "metadata": {},
   "outputs": [],
   "source": [
    "df['comment'] = df['comment'].apply(lambda x : \"\" if pd.isna(x) else x)"
   ]
  },
  {
   "cell_type": "code",
   "execution_count": 22,
   "id": "indie-thunder",
   "metadata": {},
   "outputs": [],
   "source": [
    "exif.columns = [\"exifdata.\"+p for p in list(exif.columns)]"
   ]
  },
  {
   "cell_type": "code",
   "execution_count": 23,
   "id": "molecular-smooth",
   "metadata": {},
   "outputs": [
    {
     "data": {
      "text/plain": [
       "256679"
      ]
     },
     "execution_count": 23,
     "metadata": {},
     "output_type": "execute_result"
    }
   ],
   "source": [
    "df = pd.merge(df, exif, left_on = 'path', right_on = 'exifdata.path')\n",
    "len(df)"
   ]
  },
  {
   "cell_type": "code",
   "execution_count": 24,
   "id": "posted-macro",
   "metadata": {},
   "outputs": [],
   "source": [
    "df = df.drop('exifdata.path', axis=1)"
   ]
  },
  {
   "cell_type": "code",
   "execution_count": 25,
   "id": "certified-difficulty",
   "metadata": {},
   "outputs": [
    {
     "data": {
      "text/plain": [
       "'partition1/images/JS126058-170.jpg'"
      ]
     },
     "execution_count": 25,
     "metadata": {},
     "output_type": "execute_result"
    }
   ],
   "source": [
    "df['path'][0]"
   ]
  },
  {
   "cell_type": "code",
   "execution_count": 27,
   "id": "cleared-typing",
   "metadata": {},
   "outputs": [
    {
     "data": {
      "text/plain": [
       "[]"
      ]
     },
     "execution_count": 27,
     "metadata": {},
     "output_type": "execute_result"
    }
   ],
   "source": [
    "import re\n",
    "rs = re.compile('^partition([0-9]{1,2})\\/images/(.*)\\.[jpegJPEG]{3,4}$')\n",
    "list(df[df['path'].apply(lambda x : rs.match(x) == None)]['path'])"
   ]
  },
  {
   "cell_type": "code",
   "execution_count": 28,
   "id": "premium-inspection",
   "metadata": {},
   "outputs": [],
   "source": [
    "df['path'] = df['path'].apply(lambda x : '/main/dataset/'+x)"
   ]
  },
  {
   "cell_type": "code",
   "execution_count": null,
   "id": "sticky-hurricane",
   "metadata": {},
   "outputs": [],
   "source": [
    "for i in range(1,11):\n",
    "    os.system(f'rm -rf /main/dataset/partition{i}/annotations/')"
   ]
  },
  {
   "cell_type": "code",
   "execution_count": 31,
   "id": "developmental-canon",
   "metadata": {},
   "outputs": [],
   "source": [
    "!mkdir -p /main/dataset\n",
    "import os\n",
    "for i in range(1,12):\n",
    "    #os.system(f'unzip /main/dataset/partition{i}.zip')\n",
    "    os.system(f'mkdir -p /main/dataset/partition{i}/')\n",
    "    os.system(f'mv partition{i}/images/* /main/dataset/partition{i}/')\n",
    "    #os.system(f'rm -rf /main/dataset/partition{i}/annotations/')\n",
    "    #os.system(f'mv /main/dataset/partition{i}/images/* /main/dataset/partition{i}/')    "
   ]
  },
  {
   "cell_type": "code",
   "execution_count": 32,
   "id": "spread-description",
   "metadata": {},
   "outputs": [],
   "source": [
    "!rm -rf partition*"
   ]
  },
  {
   "cell_type": "code",
   "execution_count": 33,
   "id": "hollow-crack",
   "metadata": {},
   "outputs": [
    {
     "name": "stdout",
     "output_type": "stream",
     "text": [
      "total 12G\n",
      "drwxr-xr-x 13 root root 4.0K Jan 31 13:15 .\n",
      "drwxr-xr-x  5 root root 4.0K Jan 31 13:11 ..\n",
      "drwxr-xr-x  2 root root 928K Jan 31 13:14 partition1\n",
      "-rw-r--r--  1 root root 1.1G Jan 21 06:53 partition1.zip\n",
      "drwxr-xr-x  2 root root 876K Jan 31 13:15 partition10\n",
      "-rw-r--r--  1 root root 1.1G Jan 21 07:11 partition10.zip\n",
      "drwxr-xr-x  2 root root 920K Jan 31 13:15 partition11\n",
      "-rw-r--r--  1 root root 1.1G Jan 21 07:13 partition11.zip\n",
      "drwxr-xr-x  2 root root 816K Jan 31 13:14 partition2\n",
      "-rw-r--r--  1 root root 1.1G Jan 21 06:55 partition2.zip\n",
      "drwxr-xr-x  2 root root 876K Jan 31 13:14 partition3\n",
      "-rw-r--r--  1 root root 1.1G Jan 21 06:57 partition3.zip\n",
      "drwxr-xr-x  2 root root 784K Jan 31 13:14 partition4\n",
      "-rw-r--r--  1 root root 1.1G Jan 21 06:59 partition4.zip\n",
      "drwxr-xr-x  2 root root 848K Jan 31 13:14 partition5\n",
      "-rw-r--r--  1 root root 1.1G Jan 21 07:01 partition5.zip\n",
      "drwxr-xr-x  2 root root 752K Jan 31 13:14 partition6\n",
      "-rw-r--r--  1 root root 1.1G Jan 21 07:03 partition6.zip\n",
      "drwxr-xr-x  2 root root 836K Jan 31 13:14 partition7\n",
      "-rw-r--r--  1 root root 1.1G Jan 21 07:05 partition7.zip\n",
      "drwxr-xr-x  2 root root 948K Jan 31 13:14 partition8\n",
      "-rw-r--r--  1 root root 1.1G Jan 21 07:07 partition8.zip\n",
      "drwxr-xr-x  2 root root 708K Jan 31 13:14 partition9\n",
      "-rw-r--r--  1 root root 1.1G Jan 21 07:09 partition9.zip\n"
     ]
    }
   ],
   "source": [
    "!cd /main/dataset && ls -alh"
   ]
  },
  {
   "cell_type": "code",
   "execution_count": 96,
   "id": "hungry-milton",
   "metadata": {},
   "outputs": [
    {
     "name": "stderr",
     "output_type": "stream",
     "text": [
      "/usr/local/lib/python3.6/site-packages/IPython/core/interactiveshell.py:3072: DtypeWarning: Columns (39) have mixed types.Specify dtype option on import or set low_memory=False.\n",
      "  interactivity=interactivity, compiler=compiler, result=result)\n",
      "/usr/local/lib/python3.6/site-packages/IPython/core/interactiveshell.py:3072: DtypeWarning: Columns (37,38,39) have mixed types.Specify dtype option on import or set low_memory=False.\n",
      "  interactivity=interactivity, compiler=compiler, result=result)\n",
      "/usr/local/lib/python3.6/site-packages/IPython/core/interactiveshell.py:3072: DtypeWarning: Columns (37,38,39,113) have mixed types.Specify dtype option on import or set low_memory=False.\n",
      "  interactivity=interactivity, compiler=compiler, result=result)\n",
      "/usr/local/lib/python3.6/site-packages/IPython/core/interactiveshell.py:3072: DtypeWarning: Columns (39,113) have mixed types.Specify dtype option on import or set low_memory=False.\n",
      "  interactivity=interactivity, compiler=compiler, result=result)\n",
      "/usr/local/lib/python3.6/site-packages/IPython/core/interactiveshell.py:3072: DtypeWarning: Columns (37,38,94) have mixed types.Specify dtype option on import or set low_memory=False.\n",
      "  interactivity=interactivity, compiler=compiler, result=result)\n",
      "/usr/local/lib/python3.6/site-packages/IPython/core/interactiveshell.py:3072: DtypeWarning: Columns (37,38,39,107,108,109,110,111,113) have mixed types.Specify dtype option on import or set low_memory=False.\n",
      "  interactivity=interactivity, compiler=compiler, result=result)\n",
      "/usr/local/lib/python3.6/site-packages/IPython/core/interactiveshell.py:3072: DtypeWarning: Columns (39,94,107,108,109,110,111,113) have mixed types.Specify dtype option on import or set low_memory=False.\n",
      "  interactivity=interactivity, compiler=compiler, result=result)\n",
      "/usr/local/lib/python3.6/site-packages/IPython/core/interactiveshell.py:3072: DtypeWarning: Columns (37,38,39,107,108,109,110,111,113,118,119,128) have mixed types.Specify dtype option on import or set low_memory=False.\n",
      "  interactivity=interactivity, compiler=compiler, result=result)\n",
      "/usr/local/lib/python3.6/site-packages/IPython/core/interactiveshell.py:3072: DtypeWarning: Columns (82,107,108,109,110,111,113,132,133,134) have mixed types.Specify dtype option on import or set low_memory=False.\n",
      "  interactivity=interactivity, compiler=compiler, result=result)\n",
      "/usr/local/lib/python3.6/site-packages/IPython/core/interactiveshell.py:3072: DtypeWarning: Columns (118,119,128) have mixed types.Specify dtype option on import or set low_memory=False.\n",
      "  interactivity=interactivity, compiler=compiler, result=result)\n",
      "/usr/local/lib/python3.6/site-packages/IPython/core/interactiveshell.py:3072: DtypeWarning: Columns (37,38,94,107,108,118,119,128) have mixed types.Specify dtype option on import or set low_memory=False.\n",
      "  interactivity=interactivity, compiler=compiler, result=result)\n",
      "/usr/local/lib/python3.6/site-packages/IPython/core/interactiveshell.py:3072: DtypeWarning: Columns (94,109,110,111,113) have mixed types.Specify dtype option on import or set low_memory=False.\n",
      "  interactivity=interactivity, compiler=compiler, result=result)\n"
     ]
    },
    {
     "data": {
      "text/plain": [
       "(256679, 256679)"
      ]
     },
     "execution_count": 96,
     "metadata": {},
     "output_type": "execute_result"
    }
   ],
   "source": [
    "dfs = []\n",
    "for i in range(0,100):\n",
    "    try:\n",
    "        dfs.append(pd.read_csv(f'test{i:0>2}.csv'))\n",
    "    except:\n",
    "        break\n",
    "dfc = pd.concat(dfs)\n",
    "len(dfc), len(list(dfc['id'].unique()))"
   ]
  },
  {
   "cell_type": "code",
   "execution_count": 2,
   "id": "verified-shame",
   "metadata": {},
   "outputs": [
    {
     "name": "stderr",
     "output_type": "stream",
     "text": [
      "/usr/local/lib/python3.6/site-packages/pandas/compat/__init__.py:120: UserWarning: Could not import the lzma module. Your installed Python is incomplete. Attempting to use lzma compression will result in a RuntimeError.\n",
      "  warnings.warn(msg)\n",
      "/usr/local/lib/python3.6/site-packages/IPython/core/interactiveshell.py:3263: DtypeWarning: Columns (39) have mixed types.Specify dtype option on import or set low_memory=False.\n",
      "  if (await self.run_code(code, result,  async_=asy)):\n",
      "/usr/local/lib/python3.6/site-packages/IPython/core/interactiveshell.py:3263: DtypeWarning: Columns (37,38,39) have mixed types.Specify dtype option on import or set low_memory=False.\n",
      "  if (await self.run_code(code, result,  async_=asy)):\n",
      "/usr/local/lib/python3.6/site-packages/IPython/core/interactiveshell.py:3263: DtypeWarning: Columns (37,38,39,113) have mixed types.Specify dtype option on import or set low_memory=False.\n",
      "  if (await self.run_code(code, result,  async_=asy)):\n",
      "/usr/local/lib/python3.6/site-packages/IPython/core/interactiveshell.py:3263: DtypeWarning: Columns (39,113) have mixed types.Specify dtype option on import or set low_memory=False.\n",
      "  if (await self.run_code(code, result,  async_=asy)):\n",
      "/usr/local/lib/python3.6/site-packages/IPython/core/interactiveshell.py:3263: DtypeWarning: Columns (37,38,94) have mixed types.Specify dtype option on import or set low_memory=False.\n",
      "  if (await self.run_code(code, result,  async_=asy)):\n",
      "/usr/local/lib/python3.6/site-packages/IPython/core/interactiveshell.py:3263: DtypeWarning: Columns (37,38,39,107,108,109,110,111,113) have mixed types.Specify dtype option on import or set low_memory=False.\n",
      "  if (await self.run_code(code, result,  async_=asy)):\n",
      "/usr/local/lib/python3.6/site-packages/IPython/core/interactiveshell.py:3263: DtypeWarning: Columns (39,94,107,108,109,110,111,113) have mixed types.Specify dtype option on import or set low_memory=False.\n",
      "  if (await self.run_code(code, result,  async_=asy)):\n",
      "/usr/local/lib/python3.6/site-packages/IPython/core/interactiveshell.py:3263: DtypeWarning: Columns (37,38,39,107,108,109,110,111,113,118,119,128) have mixed types.Specify dtype option on import or set low_memory=False.\n",
      "  if (await self.run_code(code, result,  async_=asy)):\n",
      "/usr/local/lib/python3.6/site-packages/IPython/core/interactiveshell.py:3263: DtypeWarning: Columns (82,107,108,109,110,111,113,132,133,134) have mixed types.Specify dtype option on import or set low_memory=False.\n",
      "  if (await self.run_code(code, result,  async_=asy)):\n",
      "/usr/local/lib/python3.6/site-packages/IPython/core/interactiveshell.py:3263: DtypeWarning: Columns (118,119,128) have mixed types.Specify dtype option on import or set low_memory=False.\n",
      "  if (await self.run_code(code, result,  async_=asy)):\n",
      "/usr/local/lib/python3.6/site-packages/IPython/core/interactiveshell.py:3263: DtypeWarning: Columns (37,38,94,107,108,118,119,128) have mixed types.Specify dtype option on import or set low_memory=False.\n",
      "  if (await self.run_code(code, result,  async_=asy)):\n",
      "/usr/local/lib/python3.6/site-packages/IPython/core/interactiveshell.py:3263: DtypeWarning: Columns (94,109,110,111,113) have mixed types.Specify dtype option on import or set low_memory=False.\n",
      "  if (await self.run_code(code, result,  async_=asy)):\n"
     ]
    }
   ],
   "source": [
    "import pandas as pd\n",
    "dfall = pd.concat([pd.read_csv(f'/main/dataset/dataindex_{i:0>2}.csv') for i in range(0, 37)]).drop('Unnamed: 0',axis=1)"
   ]
  },
  {
   "cell_type": "code",
   "execution_count": 3,
   "id": "wired-decrease",
   "metadata": {},
   "outputs": [],
   "source": [
    "df = dfall"
   ]
  },
  {
   "cell_type": "code",
   "execution_count": null,
   "id": "placed-grenada",
   "metadata": {},
   "outputs": [],
   "source": []
  },
  {
   "cell_type": "code",
   "execution_count": 34,
   "id": "proved-supervisor",
   "metadata": {},
   "outputs": [],
   "source": [
    "df['path'] = df['path'].apply(lambda x : x.replace('/images/','/'))"
   ]
  },
  {
   "cell_type": "code",
   "execution_count": null,
   "id": "reported-grove",
   "metadata": {},
   "outputs": [],
   "source": []
  },
  {
   "cell_type": "code",
   "execution_count": 35,
   "id": "controlling-heating",
   "metadata": {},
   "outputs": [],
   "source": [
    "step = 7000\n",
    "idx = 0\n",
    "for i in range(0,len(df),step):\n",
    "    df[i:i+step].to_csv(f'/main/dataset/dataindex_{idx:0>2}.csv')\n",
    "    idx += 1"
   ]
  },
  {
   "cell_type": "code",
   "execution_count": 6,
   "id": "inclusive-house",
   "metadata": {},
   "outputs": [
    {
     "data": {
      "text/plain": [
       "256679"
      ]
     },
     "execution_count": 6,
     "metadata": {},
     "output_type": "execute_result"
    }
   ],
   "source": [
    "len(df['id'].unique())"
   ]
  },
  {
   "cell_type": "code",
   "execution_count": 55,
   "id": "temporal-short",
   "metadata": {},
   "outputs": [
    {
     "data": {
      "text/plain": [
       "{'has_exif': True,\n",
       " 'image_width': 4000.0,\n",
       " 'image_height': 3000.0,\n",
       " 'make': 'samsung',\n",
       " 'model': 'SM-A516N',\n",
       " 'orientation': 6.0,\n",
       " 'x_resolution': 72.0,\n",
       " 'y_resolution': 72.0,\n",
       " 'resolution_unit': 2.0,\n",
       " 'software': 'A516NKSU2ATG4',\n",
       " 'datetime': '2020:09:28 13:40:35',\n",
       " 'y_and_c_positioning': 1.0,\n",
       " '_exif_ifd_pointer': 226,\n",
       " 'compression': 6.0,\n",
       " 'jpeg_interchange_format': 762.0,\n",
       " 'jpeg_interchange_format_length': 26517.0,\n",
       " 'exposure_time': 0.02,\n",
       " 'f_number': 2.0,\n",
       " 'exposure_program': 2.0,\n",
       " 'photographic_sensitivity': 64.0,\n",
       " 'exif_version': '0220',\n",
       " 'datetime_original': '2020:09:28 13:40:35',\n",
       " 'datetime_digitized': '2020:09:28 13:40:35',\n",
       " 'shutter_speed_value': 0.02,\n",
       " 'aperture_value': 2.0,\n",
       " 'brightness_value': 6.3,\n",
       " 'exposure_bias_value': 0.0,\n",
       " 'max_aperture_value': 2.0,\n",
       " 'metering_mode': 2.0,\n",
       " 'flash': {'flash_fired': False,\n",
       "  'flash_return': 0,\n",
       "  'flash_mode': 0,\n",
       "  'flash_function_not_present': False,\n",
       "  'red_eye_reduction_supported': False,\n",
       "  'reserved': 0},\n",
       " 'focal_length': 4.6,\n",
       " 'color_space': 1.0,\n",
       " 'pixel_x_dimension': 4000.0,\n",
       " 'pixel_y_dimension': 3000.0,\n",
       " 'exposure_mode': 0.0,\n",
       " 'white_balance': 0.0,\n",
       " 'digital_zoom_ratio': 2.0,\n",
       " 'focal_length_in_35mm_film': 25.0,\n",
       " 'scene_capture_type': 0.0,\n",
       " 'image_unique_id': 'B48LSML01CM',\n",
       " 'path': 'partition1/images/JS126058-170.jpg',\n",
       " 'components_configuration': nan,\n",
       " 'maker_note': nan,\n",
       " 'user_comment': nan,\n",
       " 'subsec_time': nan,\n",
       " 'subsec_time_original': nan,\n",
       " 'subsec_time_digitized': nan,\n",
       " 'flashpix_version': nan,\n",
       " '_interoperability_ifd_Pointer': nan,\n",
       " 'scene_type': nan,\n",
       " 'contrast': nan,\n",
       " 'saturation': nan,\n",
       " 'sharpness': nan,\n",
       " 'custom_rendered': nan,\n",
       " 'sensing_method': nan,\n",
       " 'image_description': nan,\n",
       " '<unknown EXIF tag 544>': nan,\n",
       " '<unknown EXIF tag 545>': nan,\n",
       " '<unknown EXIF tag 546>': nan,\n",
       " '<unknown EXIF tag 547>': nan,\n",
       " '<unknown EXIF tag 548>': nan,\n",
       " '<unknown EXIF tag 549>': nan,\n",
       " 'light_source': nan,\n",
       " '<unknown EXIF tag 50341>': nan,\n",
       " 'sensitivity_type': nan,\n",
       " 'recommended_exposure_index': nan,\n",
       " 'compressed_bits_per_pixel': nan,\n",
       " 'file_source': nan,\n",
       " 'lens_specification': nan,\n",
       " 'lens_model': nan,\n",
       " 'offset_time': nan,\n",
       " 'offset_time_original': nan,\n",
       " 'offset_time_digitized': nan,\n",
       " 'subject_area': nan,\n",
       " 'lens_make': nan,\n",
       " '<unknown EXIF tag 322>': nan,\n",
       " '<unknown EXIF tag 323>': nan,\n",
       " '<unknown EXIF tag 42080>': nan,\n",
       " 'gamma': nan,\n",
       " 'artist': nan,\n",
       " 'copyright': nan,\n",
       " 'cfa_pattern': nan,\n",
       " 'gain_control': nan,\n",
       " 'subject_distance_range': nan,\n",
       " 'focal_plane_x_resolution': nan,\n",
       " 'focal_plane_y_resolution': nan,\n",
       " 'focal_plane_resolution_unit': nan,\n",
       " 'camera_owner_name': nan,\n",
       " 'body_serial_number': nan,\n",
       " 'lens_serial_number': nan,\n",
       " 'bits_per_sample': nan,\n",
       " 'photometric_interpretation': nan,\n",
       " 'samples_per_pixel': nan,\n",
       " 'white_point': nan,\n",
       " 'primary_chromaticities': nan,\n",
       " 'matrix_coefficients': nan,\n",
       " '<unknown EXIF tag 59932>': nan,\n",
       " '<unknown EXIF tag 316>': nan}"
      ]
     },
     "execution_count": 55,
     "metadata": {},
     "output_type": "execute_result"
    }
   ],
   "source": [
    "dict(exif.iloc[0])"
   ]
  },
  {
   "cell_type": "code",
   "execution_count": 35,
   "id": "excited-emperor",
   "metadata": {},
   "outputs": [
    {
     "data": {
      "text/plain": [
       "{'has_exif': True,\n",
       " 'image_width': 4000,\n",
       " 'image_height': 3000,\n",
       " 'make': 'samsung',\n",
       " 'model': 'SM-A516N',\n",
       " 'orientation': 6,\n",
       " 'x_resolution': 72.0,\n",
       " 'y_resolution': 72.0,\n",
       " 'resolution_unit': 2,\n",
       " 'software': 'A516NKSU2ATG4',\n",
       " 'datetime': '2020:09:28 13:40:35',\n",
       " 'y_and_c_positioning': 1,\n",
       " '_exif_ifd_pointer': 226,\n",
       " 'compression': 6,\n",
       " 'jpeg_interchange_format': 762,\n",
       " 'jpeg_interchange_format_length': 26517,\n",
       " 'exposure_time': 0.02,\n",
       " 'f_number': 2.0,\n",
       " 'exposure_program': 2,\n",
       " 'photographic_sensitivity': 64,\n",
       " 'exif_version': '0220',\n",
       " 'datetime_original': '2020:09:28 13:40:35',\n",
       " 'datetime_digitized': '2020:09:28 13:40:35',\n",
       " 'shutter_speed_value': 0.02,\n",
       " 'aperture_value': 2.0,\n",
       " 'brightness_value': 6.3,\n",
       " 'exposure_bias_value': 0.0,\n",
       " 'max_aperture_value': 2.0,\n",
       " 'metering_mode': 2,\n",
       " 'flash': {'flash_fired': False,\n",
       "  'flash_return': 0,\n",
       "  'flash_mode': 0,\n",
       "  'flash_function_not_present': False,\n",
       "  'red_eye_reduction_supported': False,\n",
       "  'reserved': 0},\n",
       " 'focal_length': 4.6,\n",
       " 'color_space': 1,\n",
       " 'pixel_x_dimension': 4000,\n",
       " 'pixel_y_dimension': 3000,\n",
       " 'exposure_mode': 0,\n",
       " 'white_balance': 0,\n",
       " 'digital_zoom_ratio': 2.0,\n",
       " 'focal_length_in_35mm_film': 25,\n",
       " 'scene_capture_type': 0,\n",
       " 'image_unique_id': 'B48LSML01CM',\n",
       " 'path': '../images/JS126058-170.jpg'}"
      ]
     },
     "execution_count": 35,
     "metadata": {},
     "output_type": "execute_result"
    }
   ],
   "source": [
    "with open(f'/main/dataset/partition1/annotations/exifdata.json', 'rt') as f:\n",
    "    lj = json.loads(f.read())\n",
    "lj[0]"
   ]
  },
  {
   "cell_type": "code",
   "execution_count": null,
   "id": "regular-leave",
   "metadata": {},
   "outputs": [],
   "source": []
  }
 ],
 "metadata": {
  "kernelspec": {
   "display_name": "Python 3",
   "language": "python",
   "name": "python3"
  },
  "language_info": {
   "codemirror_mode": {
    "name": "ipython",
    "version": 3
   },
   "file_extension": ".py",
   "mimetype": "text/x-python",
   "name": "python",
   "nbconvert_exporter": "python",
   "pygments_lexer": "ipython3",
   "version": "3.6.9"
  }
 },
 "nbformat": 4,
 "nbformat_minor": 5
}
