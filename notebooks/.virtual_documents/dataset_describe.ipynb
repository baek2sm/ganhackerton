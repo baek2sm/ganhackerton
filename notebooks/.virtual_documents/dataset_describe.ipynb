try:
    import pandas as pd
except:
    get_ipython().getoutput("pip3 install pandas")
    import pandas as pd
dfall = pd.concat([pd.read_csv(f'/main/dataset/dataindex_{i:0>2}.csv') for i in range(0, 37)]).drop('Unnamed: 0',axis=1)


display(dfall)


for i in ['basestyle','basestyle-type','length','curl','bang','loss','side','age','front','horizontal','vertical','color','partition','sex','exceptional','before-after','device','hair-width','water-repellency','natural-curl','damage','melanin-color','decolorize-history','black-colorize','patch-test','user-stisfied','designer-satisfied']:
    print(i," : " , sorted(list(dfall[i].unique()),key=str))
    print("----------------------------------------------------------------")


#필터한다.
#1. 성별이 여성
#2. 기타레이어드
#3. SS컬
#4. 장발
#5. 시술이전사진은 취급안할 것이므로 after와 none만
dffiltered = dfall[dfall.apply(lambda x : x['sex'] == '여' and x['basestyle'] == '기타레이어드' and x['curl'] == 'SS' and x['length'] == '장발' and x['before-after'] in ['after', 'none'], axis=1)]

print(len(dffiltered),"개의 사진 인스턴스가 발견되었습니다.")

#source가 같으면 같은사람이므로 duplicate처리한다.
dffiltered_samesource = dffiltered.drop_duplicates('source',keep='first')
dffiltered_samesource.index = range(len(dffiltered_samesource))
print(len(dffiltered_samesource),"명의 모델이 발견되었습니다.")

#이들의 사진을 전부 가져와본다
from PIL import Image
import matplotlib.pyplot as plt
plt.figure(figsize=(20,20))

for i, row in dffiltered_samesource.iterrows():
    plt.subplot(len(dffiltered_samesource)/6 + 1, 6, i+1)
    plt.imshow(Image.open(row['path']))


#필터한다.
#1. 성별이 여성
#2. 기타레이어드
#3. X컬
#4. 장발
#5. 시술이전사진은 취급안할 것이므로 after와 none만
dffiltered = dfall[dfall.apply(lambda x : x['sex'] == '여' and x['basestyle'] == '기타레이어드' and x['curl'] == 'X' and x['length'] == '장발' and x['before-after'] in ['after', 'none'], axis=1)]

print(len(dffiltered),"개의 사진 인스턴스가 발견되었습니다.")

#source가 같으면 같은사람이므로 duplicate처리한다.
dffiltered_samesource = dffiltered.drop_duplicates('source',keep='first')
dffiltered_samesource.index = range(len(dffiltered_samesource))
print(len(dffiltered_samesource),"명의 모델이 발견되었습니다.")

#이들의 사진을 전부 가져와본다
plt.figure(figsize=(20,20))
for i, row in dffiltered_samesource.iterrows():
    plt.subplot(len(dffiltered_samesource)/6 + 1, 6, i+1)
    plt.imshow(Image.open(row['path']))



