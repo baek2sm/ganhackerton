get_ipython().getoutput("git clone https://github.com/KbeautyHair/KbeautyBaseline.git")


import os
get_ipython().getoutput("cd /main/notebooks/KbeautyBaseline/expr/checkpoints/k-hairstyle/ && wget https://robot-public.s3.ap-northeast-2.amazonaws.com/baseline/060000_nets_ema.ckpt")
get_ipython().getoutput("cd /main/notebooks/KbeautyBaseline/expr/checkpoints/k-hairstyle/ && wget https://robot-public.s3.ap-northeast-2.amazonaws.com/baseline/060000_nets.ckpt")
get_ipython().getoutput("cd /main/notebooks/KbeautyBaseline/expr/checkpoints/k-hairstyle/ && wget https://robot-public.s3.ap-northeast-2.amazonaws.com/baseline/060000_nets_optims.ckpt    ")


import torch
if torch.cuda.is_available():
    print("device :",torch.cuda.get_device_name(0))
else:
    print("device : cpu only")

print("torch version :",torch.__version__)
get_ipython().getoutput("nvidia-smi")


get_ipython().getoutput("cd /main/notebooks/KbeautyBaseline && python3 main.py --mode sample --img_size 512 --num_domains 2 --resume_iter 60000 --w_hpf 0 --checkpoint_dir expr/checkpoints/k-hairstyle --result_dir expr/results/k-hairstyle --trg_domain 0 --src_dir sample_images/src --ref_dir sample_images/ref               ")


import torch


get_ipython().getoutput("nvidia-smi")


import torch
torch.__version__



